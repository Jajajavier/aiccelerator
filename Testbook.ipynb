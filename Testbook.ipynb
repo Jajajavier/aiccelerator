{
 "cells": [
  {
   "cell_type": "code",
   "execution_count": 1,
   "metadata": {},
   "outputs": [],
   "source": [
    "import warnings\n",
    "warnings.simplefilter(action='ignore', category=FutureWarning)\n",
    "from aiccelerator import AIccelerator\n",
    "import pandas as pd"
   ]
  },
  {
   "cell_type": "code",
   "execution_count": 2,
   "metadata": {},
   "outputs": [],
   "source": [
    "ai = AIccelerator.AIccelerator()"
   ]
  },
  {
   "cell_type": "code",
   "execution_count": 3,
   "metadata": {},
   "outputs": [],
   "source": [
    "# Weather dataset thanks to Univeridad de Antioquia\n",
    "data = pd.read_csv('data.csv',sep=',')"
   ]
  },
  {
   "cell_type": "code",
   "execution_count": 4,
   "metadata": {},
   "outputs": [],
   "source": [
    "data = data[['Outside Temperature', 'Barometer', 'Outside Humidity', 'Tiempo Sistema']]\n",
    "data = data.sort_values(by=['Tiempo Sistema'], ascending=[True])\n",
    "data['Tiempo Sistema'] = pd.to_datetime(data['Tiempo Sistema'], format='%Y-%m-%d %H:%M:%S')\n",
    "data = data.loc[(data['Tiempo Sistema'] >= '2020-03-01') & (data['Tiempo Sistema'] <= '2020-03-15')]\n",
    "data= data.set_index('Tiempo Sistema')"
   ]
  },
  {
   "cell_type": "code",
   "execution_count": 5,
   "metadata": {},
   "outputs": [],
   "source": [
    "ai.data = data"
   ]
  },
  {
   "cell_type": "code",
   "execution_count": 6,
   "metadata": {},
   "outputs": [
    {
     "data": {
      "text/plain": [
       "Outside Temperature    float64\n",
       "Barometer              float64\n",
       "Outside Humidity       float64\n",
       "dtype: object"
      ]
     },
     "execution_count": 6,
     "metadata": {},
     "output_type": "execute_result"
    }
   ],
   "source": [
    "ai.data.dtypes"
   ]
  },
  {
   "cell_type": "code",
   "execution_count": 7,
   "metadata": {},
   "outputs": [
    {
     "data": {
      "text/html": [
       "<style  type=\"text/css\" >\n",
       "    #T_16714550_f312_11ea_9f62_14c2130217c0row0_col0 {\n",
       "            background-color:  #053061;\n",
       "            : ;\n",
       "        }    #T_16714550_f312_11ea_9f62_14c2130217c0row0_col1 {\n",
       "            background-color:  #ec9374;\n",
       "            : ;\n",
       "        }    #T_16714550_f312_11ea_9f62_14c2130217c0row0_col2 {\n",
       "            background-color:  #790622;\n",
       "            : ;\n",
       "        }    #T_16714550_f312_11ea_9f62_14c2130217c0row1_col0 {\n",
       "            background-color:  #ec9374;\n",
       "            : ;\n",
       "        }    #T_16714550_f312_11ea_9f62_14c2130217c0row1_col1 {\n",
       "            background-color:  #053061;\n",
       "            : ;\n",
       "        }    #T_16714550_f312_11ea_9f62_14c2130217c0row1_col2 {\n",
       "            background-color:  #8dc2dc;\n",
       "            : ;\n",
       "        }    #T_16714550_f312_11ea_9f62_14c2130217c0row2_col0 {\n",
       "            background-color:  #790622;\n",
       "            : ;\n",
       "        }    #T_16714550_f312_11ea_9f62_14c2130217c0row2_col1 {\n",
       "            background-color:  #8dc2dc;\n",
       "            : ;\n",
       "        }    #T_16714550_f312_11ea_9f62_14c2130217c0row2_col2 {\n",
       "            background-color:  #053061;\n",
       "            : ;\n",
       "        }</style><table id=\"T_16714550_f312_11ea_9f62_14c2130217c0\" ><thead>    <tr>        <th class=\"blank level0\" ></th>        <th class=\"col_heading level0 col0\" >Outside Temperature</th>        <th class=\"col_heading level0 col1\" >Barometer</th>        <th class=\"col_heading level0 col2\" >Outside Humidity</th>    </tr></thead><tbody>\n",
       "                <tr>\n",
       "                        <th id=\"T_16714550_f312_11ea_9f62_14c2130217c0level0_row0\" class=\"row_heading level0 row0\" >Outside Temperature</th>\n",
       "                        <td id=\"T_16714550_f312_11ea_9f62_14c2130217c0row0_col0\" class=\"data row0 col0\" >1.00</td>\n",
       "                        <td id=\"T_16714550_f312_11ea_9f62_14c2130217c0row0_col1\" class=\"data row0 col1\" >-0.45</td>\n",
       "                        <td id=\"T_16714550_f312_11ea_9f62_14c2130217c0row0_col2\" class=\"data row0 col2\" >-0.95</td>\n",
       "            </tr>\n",
       "            <tr>\n",
       "                        <th id=\"T_16714550_f312_11ea_9f62_14c2130217c0level0_row1\" class=\"row_heading level0 row1\" >Barometer</th>\n",
       "                        <td id=\"T_16714550_f312_11ea_9f62_14c2130217c0row1_col0\" class=\"data row1 col0\" >-0.45</td>\n",
       "                        <td id=\"T_16714550_f312_11ea_9f62_14c2130217c0row1_col1\" class=\"data row1 col1\" >1.00</td>\n",
       "                        <td id=\"T_16714550_f312_11ea_9f62_14c2130217c0row1_col2\" class=\"data row1 col2\" >0.41</td>\n",
       "            </tr>\n",
       "            <tr>\n",
       "                        <th id=\"T_16714550_f312_11ea_9f62_14c2130217c0level0_row2\" class=\"row_heading level0 row2\" >Outside Humidity</th>\n",
       "                        <td id=\"T_16714550_f312_11ea_9f62_14c2130217c0row2_col0\" class=\"data row2 col0\" >-0.95</td>\n",
       "                        <td id=\"T_16714550_f312_11ea_9f62_14c2130217c0row2_col1\" class=\"data row2 col1\" >0.41</td>\n",
       "                        <td id=\"T_16714550_f312_11ea_9f62_14c2130217c0row2_col2\" class=\"data row2 col2\" >1.00</td>\n",
       "            </tr>\n",
       "    </tbody></table>"
      ],
      "text/plain": [
       "<pandas.io.formats.style.Styler at 0x7fe30949df98>"
      ]
     },
     "execution_count": 7,
     "metadata": {},
     "output_type": "execute_result"
    }
   ],
   "source": [
    "# Shows a heatmap over a pandas dataframe to facilitate visualization of correlations\n",
    "ai.get_correlations()"
   ]
  },
  {
   "cell_type": "code",
   "execution_count": 8,
   "metadata": {},
   "outputs": [
    {
     "data": {
      "text/html": [
       "<style  type=\"text/css\" >\n",
       "    #T_16919f1c_f312_11ea_a690_14c2130217c0row0_col0 {\n",
       "            background-color:  #08306b;\n",
       "            : ;\n",
       "        }    #T_16919f1c_f312_11ea_a690_14c2130217c0row0_col1 {\n",
       "            background-color:  #d7e6f5;\n",
       "            : ;\n",
       "        }    #T_16919f1c_f312_11ea_a690_14c2130217c0row0_col2 {\n",
       "            background-color:  #d6e6f4;\n",
       "            : ;\n",
       "        }    #T_16919f1c_f312_11ea_a690_14c2130217c0row1_col0 {\n",
       "            background-color:  #e5eff9;\n",
       "            : ;\n",
       "        }    #T_16919f1c_f312_11ea_a690_14c2130217c0row1_col1 {\n",
       "            background-color:  #08306b;\n",
       "            : ;\n",
       "        }    #T_16919f1c_f312_11ea_a690_14c2130217c0row1_col2 {\n",
       "            background-color:  #1a68ae;\n",
       "            : ;\n",
       "        }    #T_16919f1c_f312_11ea_a690_14c2130217c0row2_col0 {\n",
       "            background-color:  #deebf7;\n",
       "            : ;\n",
       "        }    #T_16919f1c_f312_11ea_a690_14c2130217c0row2_col1 {\n",
       "            background-color:  #1f6eb3;\n",
       "            : ;\n",
       "        }    #T_16919f1c_f312_11ea_a690_14c2130217c0row2_col2 {\n",
       "            background-color:  #08306b;\n",
       "            : ;\n",
       "        }</style><table id=\"T_16919f1c_f312_11ea_a690_14c2130217c0\" ><thead>    <tr>        <th class=\"index_name level0\" >x</th>        <th class=\"col_heading level0 col0\" >Barometer</th>        <th class=\"col_heading level0 col1\" >Outside Humidity</th>        <th class=\"col_heading level0 col2\" >Outside Temperature</th>    </tr>    <tr>        <th class=\"index_name level0\" >y</th>        <th class=\"blank\" ></th>        <th class=\"blank\" ></th>        <th class=\"blank\" ></th>    </tr></thead><tbody>\n",
       "                <tr>\n",
       "                        <th id=\"T_16919f1c_f312_11ea_a690_14c2130217c0level0_row0\" class=\"row_heading level0 row0\" >Barometer</th>\n",
       "                        <td id=\"T_16919f1c_f312_11ea_a690_14c2130217c0row0_col0\" class=\"data row0 col0\" >1.00</td>\n",
       "                        <td id=\"T_16919f1c_f312_11ea_a690_14c2130217c0row0_col1\" class=\"data row0 col1\" >0.16</td>\n",
       "                        <td id=\"T_16919f1c_f312_11ea_a690_14c2130217c0row0_col2\" class=\"data row0 col2\" >0.16</td>\n",
       "            </tr>\n",
       "            <tr>\n",
       "                        <th id=\"T_16919f1c_f312_11ea_a690_14c2130217c0level0_row1\" class=\"row_heading level0 row1\" >Outside Humidity</th>\n",
       "                        <td id=\"T_16919f1c_f312_11ea_a690_14c2130217c0row1_col0\" class=\"data row1 col0\" >0.09</td>\n",
       "                        <td id=\"T_16919f1c_f312_11ea_a690_14c2130217c0row1_col1\" class=\"data row1 col1\" >1.00</td>\n",
       "                        <td id=\"T_16919f1c_f312_11ea_a690_14c2130217c0row1_col2\" class=\"data row1 col2\" >0.78</td>\n",
       "            </tr>\n",
       "            <tr>\n",
       "                        <th id=\"T_16919f1c_f312_11ea_a690_14c2130217c0level0_row2\" class=\"row_heading level0 row2\" >Outside Temperature</th>\n",
       "                        <td id=\"T_16919f1c_f312_11ea_a690_14c2130217c0row2_col0\" class=\"data row2 col0\" >0.13</td>\n",
       "                        <td id=\"T_16919f1c_f312_11ea_a690_14c2130217c0row2_col1\" class=\"data row2 col1\" >0.76</td>\n",
       "                        <td id=\"T_16919f1c_f312_11ea_a690_14c2130217c0row2_col2\" class=\"data row2 col2\" >1.00</td>\n",
       "            </tr>\n",
       "    </tbody></table>"
      ],
      "text/plain": [
       "<pandas.io.formats.style.Styler at 0x7fe309dab438>"
      ]
     },
     "execution_count": 8,
     "metadata": {},
     "output_type": "execute_result"
    }
   ],
   "source": [
    "# Or using ppscore from 8080labs we can facilitate the selection of predictors\n",
    "ai.get_predictive_power_score()"
   ]
  },
  {
   "cell_type": "code",
   "execution_count": 9,
   "metadata": {},
   "outputs": [],
   "source": [
    "# Assign the column as objective of the prediction\n",
    "ai.target = 'Outside Temperature'"
   ]
  },
  {
   "cell_type": "code",
   "execution_count": 10,
   "metadata": {},
   "outputs": [],
   "source": [
    "# Set the columns that you decided to use\n",
    "ai.selected_columns = ['Barometer','Outside Humidity']"
   ]
  },
  {
   "cell_type": "code",
   "execution_count": 11,
   "metadata": {},
   "outputs": [
    {
     "name": "stderr",
     "output_type": "stream",
     "text": [
      "100%|██████████| 43/43 [02:37<00:00,  3.66s/it]\n"
     ]
    }
   ],
   "source": [
    "# Using lazypredict to generate the metric of the models\n",
    "ai.aiccelerate_regressor(random_split=False,test_size=0.2)"
   ]
  },
  {
   "cell_type": "code",
   "execution_count": 12,
   "metadata": {},
   "outputs": [
    {
     "data": {
      "text/html": [
       "<div>\n",
       "<style scoped>\n",
       "    .dataframe tbody tr th:only-of-type {\n",
       "        vertical-align: middle;\n",
       "    }\n",
       "\n",
       "    .dataframe tbody tr th {\n",
       "        vertical-align: top;\n",
       "    }\n",
       "\n",
       "    .dataframe thead th {\n",
       "        text-align: right;\n",
       "    }\n",
       "</style>\n",
       "<table border=\"1\" class=\"dataframe\">\n",
       "  <thead>\n",
       "    <tr style=\"text-align: right;\">\n",
       "      <th></th>\n",
       "      <th>R-Squared</th>\n",
       "      <th>RMSE</th>\n",
       "      <th>Time Taken</th>\n",
       "    </tr>\n",
       "    <tr>\n",
       "      <th>Model</th>\n",
       "      <th></th>\n",
       "      <th></th>\n",
       "      <th></th>\n",
       "    </tr>\n",
       "  </thead>\n",
       "  <tbody>\n",
       "    <tr>\n",
       "      <th>LinearSVR</th>\n",
       "      <td>0.95</td>\n",
       "      <td>0.63</td>\n",
       "      <td>0.07</td>\n",
       "    </tr>\n",
       "    <tr>\n",
       "      <th>RANSACRegressor</th>\n",
       "      <td>0.94</td>\n",
       "      <td>0.65</td>\n",
       "      <td>0.02</td>\n",
       "    </tr>\n",
       "    <tr>\n",
       "      <th>HuberRegressor</th>\n",
       "      <td>0.94</td>\n",
       "      <td>0.67</td>\n",
       "      <td>0.06</td>\n",
       "    </tr>\n",
       "    <tr>\n",
       "      <th>GradientBoostingRegressor</th>\n",
       "      <td>0.94</td>\n",
       "      <td>0.67</td>\n",
       "      <td>0.45</td>\n",
       "    </tr>\n",
       "    <tr>\n",
       "      <th>ElasticNetCV</th>\n",
       "      <td>0.93</td>\n",
       "      <td>0.73</td>\n",
       "      <td>0.15</td>\n",
       "    </tr>\n",
       "    <tr>\n",
       "      <th>RidgeCV</th>\n",
       "      <td>0.93</td>\n",
       "      <td>0.73</td>\n",
       "      <td>0.02</td>\n",
       "    </tr>\n",
       "    <tr>\n",
       "      <th>Ridge</th>\n",
       "      <td>0.93</td>\n",
       "      <td>0.73</td>\n",
       "      <td>0.02</td>\n",
       "    </tr>\n",
       "    <tr>\n",
       "      <th>BayesianRidge</th>\n",
       "      <td>0.93</td>\n",
       "      <td>0.73</td>\n",
       "      <td>0.02</td>\n",
       "    </tr>\n",
       "    <tr>\n",
       "      <th>LinearRegression</th>\n",
       "      <td>0.93</td>\n",
       "      <td>0.73</td>\n",
       "      <td>0.02</td>\n",
       "    </tr>\n",
       "    <tr>\n",
       "      <th>TransformedTargetRegressor</th>\n",
       "      <td>0.93</td>\n",
       "      <td>0.73</td>\n",
       "      <td>0.02</td>\n",
       "    </tr>\n",
       "    <tr>\n",
       "      <th>OrthogonalMatchingPursuitCV</th>\n",
       "      <td>0.93</td>\n",
       "      <td>0.73</td>\n",
       "      <td>0.03</td>\n",
       "    </tr>\n",
       "    <tr>\n",
       "      <th>LassoLarsCV</th>\n",
       "      <td>0.93</td>\n",
       "      <td>0.73</td>\n",
       "      <td>0.03</td>\n",
       "    </tr>\n",
       "    <tr>\n",
       "      <th>Lars</th>\n",
       "      <td>0.93</td>\n",
       "      <td>0.73</td>\n",
       "      <td>0.03</td>\n",
       "    </tr>\n",
       "    <tr>\n",
       "      <th>LassoLarsIC</th>\n",
       "      <td>0.93</td>\n",
       "      <td>0.73</td>\n",
       "      <td>0.02</td>\n",
       "    </tr>\n",
       "    <tr>\n",
       "      <th>LarsCV</th>\n",
       "      <td>0.93</td>\n",
       "      <td>0.73</td>\n",
       "      <td>0.03</td>\n",
       "    </tr>\n",
       "    <tr>\n",
       "      <th>SGDRegressor</th>\n",
       "      <td>0.93</td>\n",
       "      <td>0.73</td>\n",
       "      <td>0.03</td>\n",
       "    </tr>\n",
       "    <tr>\n",
       "      <th>LassoCV</th>\n",
       "      <td>0.92</td>\n",
       "      <td>0.74</td>\n",
       "      <td>0.17</td>\n",
       "    </tr>\n",
       "    <tr>\n",
       "      <th>LGBMRegressor</th>\n",
       "      <td>0.92</td>\n",
       "      <td>0.78</td>\n",
       "      <td>0.13</td>\n",
       "    </tr>\n",
       "    <tr>\n",
       "      <th>HistGradientBoostingRegressor</th>\n",
       "      <td>0.91</td>\n",
       "      <td>0.78</td>\n",
       "      <td>0.74</td>\n",
       "    </tr>\n",
       "    <tr>\n",
       "      <th>XGBRegressor</th>\n",
       "      <td>0.91</td>\n",
       "      <td>0.79</td>\n",
       "      <td>0.44</td>\n",
       "    </tr>\n",
       "    <tr>\n",
       "      <th>PoissonRegressor</th>\n",
       "      <td>0.91</td>\n",
       "      <td>0.80</td>\n",
       "      <td>0.02</td>\n",
       "    </tr>\n",
       "    <tr>\n",
       "      <th>OrthogonalMatchingPursuit</th>\n",
       "      <td>0.90</td>\n",
       "      <td>0.82</td>\n",
       "      <td>0.02</td>\n",
       "    </tr>\n",
       "    <tr>\n",
       "      <th>RandomForestRegressor</th>\n",
       "      <td>0.90</td>\n",
       "      <td>0.86</td>\n",
       "      <td>1.21</td>\n",
       "    </tr>\n",
       "    <tr>\n",
       "      <th>BaggingRegressor</th>\n",
       "      <td>0.89</td>\n",
       "      <td>0.87</td>\n",
       "      <td>0.14</td>\n",
       "    </tr>\n",
       "    <tr>\n",
       "      <th>KNeighborsRegressor</th>\n",
       "      <td>0.89</td>\n",
       "      <td>0.88</td>\n",
       "      <td>0.04</td>\n",
       "    </tr>\n",
       "    <tr>\n",
       "      <th>ExtraTreesRegressor</th>\n",
       "      <td>0.89</td>\n",
       "      <td>0.88</td>\n",
       "      <td>0.78</td>\n",
       "    </tr>\n",
       "    <tr>\n",
       "      <th>DecisionTreeRegressor</th>\n",
       "      <td>0.89</td>\n",
       "      <td>0.89</td>\n",
       "      <td>0.04</td>\n",
       "    </tr>\n",
       "    <tr>\n",
       "      <th>ExtraTreeRegressor</th>\n",
       "      <td>0.89</td>\n",
       "      <td>0.90</td>\n",
       "      <td>0.03</td>\n",
       "    </tr>\n",
       "    <tr>\n",
       "      <th>MLPRegressor</th>\n",
       "      <td>0.88</td>\n",
       "      <td>0.92</td>\n",
       "      <td>10.81</td>\n",
       "    </tr>\n",
       "    <tr>\n",
       "      <th>AdaBoostRegressor</th>\n",
       "      <td>0.87</td>\n",
       "      <td>0.96</td>\n",
       "      <td>0.22</td>\n",
       "    </tr>\n",
       "    <tr>\n",
       "      <th>NuSVR</th>\n",
       "      <td>0.83</td>\n",
       "      <td>1.10</td>\n",
       "      <td>8.68</td>\n",
       "    </tr>\n",
       "    <tr>\n",
       "      <th>SVR</th>\n",
       "      <td>0.83</td>\n",
       "      <td>1.11</td>\n",
       "      <td>7.96</td>\n",
       "    </tr>\n",
       "    <tr>\n",
       "      <th>Lasso</th>\n",
       "      <td>0.81</td>\n",
       "      <td>1.17</td>\n",
       "      <td>0.02</td>\n",
       "    </tr>\n",
       "    <tr>\n",
       "      <th>ElasticNet</th>\n",
       "      <td>0.77</td>\n",
       "      <td>1.29</td>\n",
       "      <td>0.01</td>\n",
       "    </tr>\n",
       "    <tr>\n",
       "      <th>GeneralizedLinearRegressor</th>\n",
       "      <td>0.76</td>\n",
       "      <td>1.31</td>\n",
       "      <td>0.19</td>\n",
       "    </tr>\n",
       "    <tr>\n",
       "      <th>TweedieRegressor</th>\n",
       "      <td>0.76</td>\n",
       "      <td>1.31</td>\n",
       "      <td>0.02</td>\n",
       "    </tr>\n",
       "    <tr>\n",
       "      <th>GammaRegressor</th>\n",
       "      <td>0.74</td>\n",
       "      <td>1.36</td>\n",
       "      <td>0.03</td>\n",
       "    </tr>\n",
       "    <tr>\n",
       "      <th>PassiveAggressiveRegressor</th>\n",
       "      <td>0.37</td>\n",
       "      <td>2.11</td>\n",
       "      <td>0.02</td>\n",
       "    </tr>\n",
       "    <tr>\n",
       "      <th>DummyRegressor</th>\n",
       "      <td>-0.01</td>\n",
       "      <td>2.68</td>\n",
       "      <td>0.02</td>\n",
       "    </tr>\n",
       "    <tr>\n",
       "      <th>LassoLars</th>\n",
       "      <td>-0.01</td>\n",
       "      <td>2.68</td>\n",
       "      <td>0.02</td>\n",
       "    </tr>\n",
       "    <tr>\n",
       "      <th>KernelRidge</th>\n",
       "      <td>-47.48</td>\n",
       "      <td>18.58</td>\n",
       "      <td>37.11</td>\n",
       "    </tr>\n",
       "    <tr>\n",
       "      <th>GaussianProcessRegressor</th>\n",
       "      <td>-102534.90</td>\n",
       "      <td>854.65</td>\n",
       "      <td>87.53</td>\n",
       "    </tr>\n",
       "  </tbody>\n",
       "</table>\n",
       "</div>"
      ],
      "text/plain": [
       "                               R-Squared   RMSE  Time Taken\n",
       "Model                                                      \n",
       "LinearSVR                           0.95   0.63        0.07\n",
       "RANSACRegressor                     0.94   0.65        0.02\n",
       "HuberRegressor                      0.94   0.67        0.06\n",
       "GradientBoostingRegressor           0.94   0.67        0.45\n",
       "ElasticNetCV                        0.93   0.73        0.15\n",
       "RidgeCV                             0.93   0.73        0.02\n",
       "Ridge                               0.93   0.73        0.02\n",
       "BayesianRidge                       0.93   0.73        0.02\n",
       "LinearRegression                    0.93   0.73        0.02\n",
       "TransformedTargetRegressor          0.93   0.73        0.02\n",
       "OrthogonalMatchingPursuitCV         0.93   0.73        0.03\n",
       "LassoLarsCV                         0.93   0.73        0.03\n",
       "Lars                                0.93   0.73        0.03\n",
       "LassoLarsIC                         0.93   0.73        0.02\n",
       "LarsCV                              0.93   0.73        0.03\n",
       "SGDRegressor                        0.93   0.73        0.03\n",
       "LassoCV                             0.92   0.74        0.17\n",
       "LGBMRegressor                       0.92   0.78        0.13\n",
       "HistGradientBoostingRegressor       0.91   0.78        0.74\n",
       "XGBRegressor                        0.91   0.79        0.44\n",
       "PoissonRegressor                    0.91   0.80        0.02\n",
       "OrthogonalMatchingPursuit           0.90   0.82        0.02\n",
       "RandomForestRegressor               0.90   0.86        1.21\n",
       "BaggingRegressor                    0.89   0.87        0.14\n",
       "KNeighborsRegressor                 0.89   0.88        0.04\n",
       "ExtraTreesRegressor                 0.89   0.88        0.78\n",
       "DecisionTreeRegressor               0.89   0.89        0.04\n",
       "ExtraTreeRegressor                  0.89   0.90        0.03\n",
       "MLPRegressor                        0.88   0.92       10.81\n",
       "AdaBoostRegressor                   0.87   0.96        0.22\n",
       "NuSVR                               0.83   1.10        8.68\n",
       "SVR                                 0.83   1.11        7.96\n",
       "Lasso                               0.81   1.17        0.02\n",
       "ElasticNet                          0.77   1.29        0.01\n",
       "GeneralizedLinearRegressor          0.76   1.31        0.19\n",
       "TweedieRegressor                    0.76   1.31        0.02\n",
       "GammaRegressor                      0.74   1.36        0.03\n",
       "PassiveAggressiveRegressor          0.37   2.11        0.02\n",
       "DummyRegressor                     -0.01   2.68        0.02\n",
       "LassoLars                          -0.01   2.68        0.02\n",
       "KernelRidge                       -47.48  18.58       37.11\n",
       "GaussianProcessRegressor      -102534.90 854.65       87.53"
      ]
     },
     "execution_count": 12,
     "metadata": {},
     "output_type": "execute_result"
    }
   ],
   "source": [
    "ai.models"
   ]
  },
  {
   "cell_type": "code",
   "execution_count": 13,
   "metadata": {
    "scrolled": true
   },
   "outputs": [],
   "source": [
    "# Replicating the pipeline from lazypredict this command give us an usable model\n",
    "ai.make_pipeline()"
   ]
  },
  {
   "cell_type": "code",
   "execution_count": 14,
   "metadata": {},
   "outputs": [
    {
     "data": {
      "text/plain": [
       "Pipeline(steps=[('preprocessor',\n",
       "                 ColumnTransformer(transformers=[('numeric',\n",
       "                                                  Pipeline(steps=[('imputer',\n",
       "                                                                   SimpleImputer()),\n",
       "                                                                  ('scaler',\n",
       "                                                                   StandardScaler())]),\n",
       "                                                  Index(['Barometer', 'Outside Humidity'], dtype='object')),\n",
       "                                                 ('categorical',\n",
       "                                                  Pipeline(steps=[('imputer',\n",
       "                                                                   SimpleImputer(fill_value='missing',\n",
       "                                                                                 strategy='constant')),\n",
       "                                                                  ('encoding',\n",
       "                                                                   OneHotEncoder(handle_unknown='ignore',\n",
       "                                                                                 sparse=False))]),\n",
       "                                                  Index([], dtype='object'))])),\n",
       "                ('regressor', LinearSVR(random_state=42))])"
      ]
     },
     "execution_count": 14,
     "metadata": {},
     "output_type": "execute_result"
    }
   ],
   "source": [
    "ai.pipeline"
   ]
  },
  {
   "cell_type": "code",
   "execution_count": 15,
   "metadata": {},
   "outputs": [],
   "source": [
    "import matplotlib.pyplot as plt "
   ]
  },
  {
   "cell_type": "code",
   "execution_count": 16,
   "metadata": {},
   "outputs": [],
   "source": [
    "# making predictions is using ai.pipeline.predict(newdata)\n",
    "predictions=pd.DataFrame(ai.pipeline.predict(ai.X_test),ai.data.index[ai.X_train.shape[0]:])"
   ]
  },
  {
   "cell_type": "code",
   "execution_count": 17,
   "metadata": {},
   "outputs": [
    {
     "data": {
      "text/plain": [
       "<AxesSubplot:xlabel='Tiempo Sistema'>"
      ]
     },
     "execution_count": 17,
     "metadata": {},
     "output_type": "execute_result"
    },
    {
     "data": {
      "image/png": "[encoded data removed]",
      "text/plain": [
       "<Figure size 1800x720 with 1 Axes>"
      ]
     },
     "metadata": {
      "needs_background": "light"
     },
     "output_type": "display_data"
    }
   ],
   "source": [
    "# Validating the output\n",
    "plt.figure(figsize=(25,10))\n",
    "ai.data['Outside Temperature'].plot(marker='o')\n",
    "predictions[0].plot(marker='o')"
   ]
  },
  {
   "cell_type": "code",
   "execution_count": null,
   "metadata": {},
   "outputs": [],
   "source": []
  }
 ],
 "metadata": {
  "kernelspec": {
   "display_name": "Python 3",
   "language": "python",
   "name": "python3"
  },
  "language_info": {
   "codemirror_mode": {
    "name": "ipython",
    "version": 3
   },
   "file_extension": ".py",
   "mimetype": "text/x-python",
   "name": "python",
   "nbconvert_exporter": "python",
   "pygments_lexer": "ipython3",
   "version": "3.6.8"
  }
 },
 "nbformat": 4,
 "nbformat_minor": 4
}
